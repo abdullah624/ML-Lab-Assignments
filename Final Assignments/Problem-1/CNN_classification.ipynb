{
  "nbformat": 4,
  "nbformat_minor": 0,
  "metadata": {
    "colab": {
      "provenance": []
    },
    "kernelspec": {
      "name": "python3",
      "display_name": "Python 3"
    },
    "language_info": {
      "name": "python"
    },
    "accelerator": "GPU",
    "gpuClass": "standard"
  },
  "cells": [
    {
      "cell_type": "markdown",
      "source": [
        "# Import libraries"
      ],
      "metadata": {
        "id": "LwVIpSf1Xh4c"
      }
    },
    {
      "cell_type": "code",
      "execution_count": 5,
      "metadata": {
        "id": "jRlGKzxjXVRs"
      },
      "outputs": [],
      "source": [
        "import numpy as np\n",
        "np.random.seed(1000)\n",
        "\n",
        "import matplotlib.pyplot as plt\n",
        "import os\n",
        "import cv2\n",
        "from PIL import Image\n",
        "import keras\n",
        "os.environ['KERAS_BACKEND'] = 'tensorflow'"
      ]
    },
    {
      "cell_type": "code",
      "source": [
        "!git clone https://github.com/abdullah624/ML-Lab-Assignments.git"
      ],
      "metadata": {
        "colab": {
          "base_uri": "https://localhost:8080/"
        },
        "id": "1ucRQJ1nX482",
        "outputId": "60ebdd80-629a-4a67-d0b8-339e9b4ba80e"
      },
      "execution_count": 6,
      "outputs": [
        {
          "output_type": "stream",
          "name": "stdout",
          "text": [
            "fatal: destination path 'ML-Lab-Assignments' already exists and is not an empty directory.\n"
          ]
        }
      ]
    },
    {
      "cell_type": "code",
      "source": [
        "cnn_dataset_dir = \"/content/ML-Lab-Assignments/Final Assignments/Problem-1/CNN_dataset\"\n",
        "# ['HeadCT', 'ChestCT', 'AbdomenCT', 'Hand', 'CXR']\n",
        "SIZE = 64\n",
        "dataset = []\n",
        "label = []"
      ],
      "metadata": {
        "id": "pY6I45JUaC7X"
      },
      "execution_count": 7,
      "outputs": []
    },
    {
      "cell_type": "code",
      "source": [
        "AbdomenCT_img = os.listdir(cnn_dataset_dir + '/AbdomenCT/')\n",
        "for i, image_name in enumerate(AbdomenCT_img):  \n",
        "    \n",
        "    if (image_name.split('.')[1] == 'jpeg'):\n",
        "        image = cv2.imread(cnn_dataset_dir + '/AbdomenCT/' + image_name)\n",
        "        image = Image.fromarray(image, 'RGB')\n",
        "        image = image.resize((SIZE, SIZE))\n",
        "        dataset.append(np.array(image))\n",
        "        label.append(0)"
      ],
      "metadata": {
        "id": "Aj2dsC-qnBLu"
      },
      "execution_count": 8,
      "outputs": []
    },
    {
      "cell_type": "code",
      "source": [
        "CXR_img = os.listdir(cnn_dataset_dir + '/CXR/')\n",
        "for i, image_name in enumerate(CXR_img):  \n",
        "    \n",
        "    if (image_name.split('.')[1] == 'jpeg'):\n",
        "        image = cv2.imread(cnn_dataset_dir + '/CXR/' + image_name)\n",
        "        image = Image.fromarray(image, 'RGB')\n",
        "        image = image.resize((SIZE, SIZE))\n",
        "        dataset.append(np.array(image))\n",
        "        label.append(1)"
      ],
      "metadata": {
        "id": "3OQt8P_roni0"
      },
      "execution_count": 9,
      "outputs": []
    },
    {
      "cell_type": "code",
      "source": [
        "ChestCT_img = os.listdir(cnn_dataset_dir + '/ChestCT/')\n",
        "for i, image_name in enumerate(ChestCT_img):  \n",
        "    \n",
        "    if (image_name.split('.')[1] == 'jpeg'):\n",
        "        image = cv2.imread(cnn_dataset_dir + '/ChestCT/' + image_name)\n",
        "        image = Image.fromarray(image, 'RGB')\n",
        "        image = image.resize((SIZE, SIZE))\n",
        "        dataset.append(np.array(image))\n",
        "        label.append(2)"
      ],
      "metadata": {
        "id": "0zgt3MZ3o9--"
      },
      "execution_count": 10,
      "outputs": []
    },
    {
      "cell_type": "code",
      "source": [
        "Hand_img = os.listdir(cnn_dataset_dir + '/Hand/')\n",
        "for i, image_name in enumerate(Hand_img):  \n",
        "    \n",
        "    if (image_name.split('.')[1] == 'jpeg'):\n",
        "        image = cv2.imread(cnn_dataset_dir + '/Hand/' + image_name)\n",
        "        image = Image.fromarray(image, 'RGB')\n",
        "        image = image.resize((SIZE, SIZE))\n",
        "        dataset.append(np.array(image))\n",
        "        label.append(3)"
      ],
      "metadata": {
        "id": "tNwhNpUBphar"
      },
      "execution_count": 11,
      "outputs": []
    },
    {
      "cell_type": "code",
      "source": [
        "HeadCT_img = os.listdir(cnn_dataset_dir + '/HeadCT/')\n",
        "for i, image_name in enumerate(HeadCT_img):  \n",
        "    \n",
        "    if (image_name.split('.')[1] == 'jpeg'):\n",
        "        image = cv2.imread(cnn_dataset_dir + '/HeadCT/' + image_name)\n",
        "        image = Image.fromarray(image, 'RGB')\n",
        "        image = image.resize((SIZE, SIZE))\n",
        "        dataset.append(np.array(image))\n",
        "        label.append(4)"
      ],
      "metadata": {
        "id": "p_a8BOG_qBUv"
      },
      "execution_count": 12,
      "outputs": []
    },
    {
      "cell_type": "code",
      "source": [
        "print(len(AbdomenCT_img))\n",
        "print(len(CXR_img))\n",
        "print(len(ChestCT_img))\n",
        "print(len(Hand_img))\n",
        "print(len(HeadCT_img))"
      ],
      "metadata": {
        "colab": {
          "base_uri": "https://localhost:8080/"
        },
        "id": "BOFeu9jsqZxd",
        "outputId": "9e262b20-4f17-4a9e-963f-9f37e4f0039a"
      },
      "execution_count": 13,
      "outputs": [
        {
          "output_type": "stream",
          "name": "stdout",
          "text": [
            "10000\n",
            "10000\n",
            "10000\n",
            "10000\n",
            "10000\n"
          ]
        }
      ]
    },
    {
      "cell_type": "markdown",
      "source": [
        "# Fit Model"
      ],
      "metadata": {
        "id": "Bjpb8IUHq0uV"
      }
    },
    {
      "cell_type": "code",
      "source": [
        "INPUT_SHAPE = (SIZE, SIZE, 3)\n",
        "inp = keras.layers.Input(shape=INPUT_SHAPE)\n",
        "\n",
        "conv1 = keras.layers.Conv2D(32, kernel_size=(3, 3), activation='relu', padding='same')(inp)\n",
        "pool1 = keras.layers.MaxPooling2D(pool_size=(2, 2))(conv1)\n",
        "norm1 = keras.layers.BatchNormalization(axis = -1)(pool1)\n",
        "drop1 = keras.layers.Dropout(rate=0.2)(norm1)\n",
        "\n",
        "conv2 = keras.layers.Conv2D(32, kernel_size=(3, 3), activation='relu', padding='same')(drop1)\n",
        "pool2 = keras.layers.MaxPooling2D(pool_size=(2, 2))(conv2)\n",
        "norm2 = keras.layers.BatchNormalization(axis = -1)(pool2)\n",
        "drop2 = keras.layers.Dropout(rate=0.2)(norm2)\n",
        "\n",
        "flat = keras.layers.Flatten()(drop2)\n",
        "\n",
        "hidden1 = keras.layers.Dense(512, activation='relu')(flat)\n",
        "norm3 = keras.layers.BatchNormalization(axis = -1)(hidden1)\n",
        "drop3 = keras.layers.Dropout(rate=0.2)(norm3)\n",
        "hidden2 = keras.layers.Dense(256, activation='relu')(drop3)\n",
        "norm4 = keras.layers.BatchNormalization(axis = -1)(hidden2)\n",
        "drop4 = keras.layers.Dropout(rate=0.2)(norm4)\n",
        "\n",
        "out = keras.layers.Dense(5, activation='softmax')(drop4)"
      ],
      "metadata": {
        "id": "QGwZ4fRkqz_K"
      },
      "execution_count": 14,
      "outputs": []
    },
    {
      "cell_type": "code",
      "source": [
        "model = keras.Model(inputs=inp, outputs=out)"
      ],
      "metadata": {
        "id": "zaGHr9LrsBn9"
      },
      "execution_count": 15,
      "outputs": []
    },
    {
      "cell_type": "code",
      "source": [
        "\n",
        "model.compile(optimizer='adam', loss='categorical_crossentropy', metrics=['accuracy'])\n",
        "print(model.summary())"
      ],
      "metadata": {
        "colab": {
          "base_uri": "https://localhost:8080/"
        },
        "id": "2um2VL3jsGUi",
        "outputId": "80f526e1-2216-465c-f108-6d5318e7fa59"
      },
      "execution_count": 16,
      "outputs": [
        {
          "output_type": "stream",
          "name": "stdout",
          "text": [
            "Model: \"model\"\n",
            "_________________________________________________________________\n",
            " Layer (type)                Output Shape              Param #   \n",
            "=================================================================\n",
            " input_1 (InputLayer)        [(None, 64, 64, 3)]       0         \n",
            "                                                                 \n",
            " conv2d (Conv2D)             (None, 64, 64, 32)        896       \n",
            "                                                                 \n",
            " max_pooling2d (MaxPooling2D  (None, 32, 32, 32)       0         \n",
            " )                                                               \n",
            "                                                                 \n",
            " batch_normalization (BatchN  (None, 32, 32, 32)       128       \n",
            " ormalization)                                                   \n",
            "                                                                 \n",
            " dropout (Dropout)           (None, 32, 32, 32)        0         \n",
            "                                                                 \n",
            " conv2d_1 (Conv2D)           (None, 32, 32, 32)        9248      \n",
            "                                                                 \n",
            " max_pooling2d_1 (MaxPooling  (None, 16, 16, 32)       0         \n",
            " 2D)                                                             \n",
            "                                                                 \n",
            " batch_normalization_1 (Batc  (None, 16, 16, 32)       128       \n",
            " hNormalization)                                                 \n",
            "                                                                 \n",
            " dropout_1 (Dropout)         (None, 16, 16, 32)        0         \n",
            "                                                                 \n",
            " flatten (Flatten)           (None, 8192)              0         \n",
            "                                                                 \n",
            " dense (Dense)               (None, 512)               4194816   \n",
            "                                                                 \n",
            " batch_normalization_2 (Batc  (None, 512)              2048      \n",
            " hNormalization)                                                 \n",
            "                                                                 \n",
            " dropout_2 (Dropout)         (None, 512)               0         \n",
            "                                                                 \n",
            " dense_1 (Dense)             (None, 256)               131328    \n",
            "                                                                 \n",
            " batch_normalization_3 (Batc  (None, 256)              1024      \n",
            " hNormalization)                                                 \n",
            "                                                                 \n",
            " dropout_3 (Dropout)         (None, 256)               0         \n",
            "                                                                 \n",
            " dense_2 (Dense)             (None, 5)                 1285      \n",
            "                                                                 \n",
            "=================================================================\n",
            "Total params: 4,340,901\n",
            "Trainable params: 4,339,237\n",
            "Non-trainable params: 1,664\n",
            "_________________________________________________________________\n",
            "None\n"
          ]
        }
      ]
    },
    {
      "cell_type": "code",
      "source": [
        "from sklearn.model_selection import train_test_split\n",
        "from keras.utils import to_categorical\n",
        "\n",
        "x_train, x_test, y_train, y_test = train_test_split(dataset, to_categorical(np.array(label)), test_size = 0.20, random_state = 0)"
      ],
      "metadata": {
        "id": "1mhPP3h9sWdv"
      },
      "execution_count": 17,
      "outputs": []
    },
    {
      "cell_type": "code",
      "source": [
        "history = model.fit(np.array(x_train), y_train, batch_size = 64, verbose = 1, epochs = 15, validation_split = 0.1, shuffle = False )"
      ],
      "metadata": {
        "colab": {
          "base_uri": "https://localhost:8080/"
        },
        "id": "MfclyCNeslcp",
        "outputId": "c7335554-dab3-4c0b-cd24-0d513ee9fea3"
      },
      "execution_count": 18,
      "outputs": [
        {
          "output_type": "stream",
          "name": "stdout",
          "text": [
            "Epoch 1/15\n",
            "563/563 [==============================] - 20s 12ms/step - loss: 0.0239 - accuracy: 0.9924 - val_loss: 0.5569 - val_accuracy: 0.8105\n",
            "Epoch 2/15\n",
            "563/563 [==============================] - 6s 12ms/step - loss: 0.0034 - accuracy: 0.9989 - val_loss: 0.0047 - val_accuracy: 0.9990\n",
            "Epoch 3/15\n",
            "563/563 [==============================] - 6s 11ms/step - loss: 0.0035 - accuracy: 0.9987 - val_loss: 0.0862 - val_accuracy: 0.9607\n",
            "Epoch 4/15\n",
            "563/563 [==============================] - 7s 12ms/step - loss: 0.0031 - accuracy: 0.9987 - val_loss: 0.0029 - val_accuracy: 0.9992\n",
            "Epoch 5/15\n",
            "563/563 [==============================] - 6s 11ms/step - loss: 0.0032 - accuracy: 0.9989 - val_loss: 0.0087 - val_accuracy: 0.9980\n",
            "Epoch 6/15\n",
            "563/563 [==============================] - 7s 12ms/step - loss: 0.0014 - accuracy: 0.9996 - val_loss: 7.5944e-04 - val_accuracy: 0.9998\n",
            "Epoch 7/15\n",
            "563/563 [==============================] - 6s 11ms/step - loss: 0.0032 - accuracy: 0.9989 - val_loss: 6.3586e-04 - val_accuracy: 0.9995\n",
            "Epoch 8/15\n",
            "563/563 [==============================] - 7s 12ms/step - loss: 6.2604e-04 - accuracy: 0.9998 - val_loss: 8.6662e-04 - val_accuracy: 0.9998\n",
            "Epoch 9/15\n",
            "563/563 [==============================] - 6s 11ms/step - loss: 0.0014 - accuracy: 0.9996 - val_loss: 0.0046 - val_accuracy: 0.9990\n",
            "Epoch 10/15\n",
            "563/563 [==============================] - 7s 12ms/step - loss: 0.0010 - accuracy: 0.9998 - val_loss: 0.0039 - val_accuracy: 0.9992\n",
            "Epoch 11/15\n",
            "563/563 [==============================] - 7s 12ms/step - loss: 0.0066 - accuracy: 0.9981 - val_loss: 0.0030 - val_accuracy: 0.9990\n",
            "Epoch 12/15\n",
            "563/563 [==============================] - 7s 12ms/step - loss: 0.0022 - accuracy: 0.9992 - val_loss: 0.0017 - val_accuracy: 0.9995\n",
            "Epoch 13/15\n",
            "563/563 [==============================] - 6s 11ms/step - loss: 0.0010 - accuracy: 0.9997 - val_loss: 8.0967e-04 - val_accuracy: 0.9995\n",
            "Epoch 14/15\n",
            "563/563 [==============================] - 7s 12ms/step - loss: 7.2650e-04 - accuracy: 0.9997 - val_loss: 0.0011 - val_accuracy: 0.9998\n",
            "Epoch 15/15\n",
            "563/563 [==============================] - 6s 11ms/step - loss: 3.0251e-04 - accuracy: 0.9999 - val_loss: 5.7455e-05 - val_accuracy: 1.0000\n"
          ]
        }
      ]
    },
    {
      "cell_type": "code",
      "source": [
        "print(\"Test_Accuracy: {:.2f}%\".format(model.evaluate(np.array(x_test), np.array(y_test))[1]*100))"
      ],
      "metadata": {
        "colab": {
          "base_uri": "https://localhost:8080/"
        },
        "id": "CfXhLyaN19yU",
        "outputId": "d80890f7-e6c6-45ac-cdbb-f1c55a95874c"
      },
      "execution_count": 19,
      "outputs": [
        {
          "output_type": "stream",
          "name": "stdout",
          "text": [
            "313/313 [==============================] - 1s 4ms/step - loss: 7.1738e-04 - accuracy: 0.9998\n",
            "Test_Accuracy: 99.98%\n"
          ]
        }
      ]
    },
    {
      "cell_type": "code",
      "source": [
        "f, (axis1, axis2) = plt.subplots(1, 2, figsize=(12, 4))\n",
        "t = f.suptitle('CNN Performance', fontsize=12)\n",
        "f.subplots_adjust(top=0.85, wspace=0.3)\n",
        "\n",
        "max_epoch = len(history.history['accuracy'])+1\n",
        "epoch_list = list(range(1,max_epoch))\n",
        "axis1.plot(epoch_list, history.history['accuracy'], label='Train Accuracy')\n",
        "axis1.plot(epoch_list, history.history['val_accuracy'], label='Validation Accuracy')\n",
        "axis1.set_xticks(np.arange(1, max_epoch, 5))\n",
        "axis1.set_ylabel('Accuracy Value')\n",
        "axis1.set_xlabel('Epoch')\n",
        "axis1.set_title('Accuracy')\n",
        "l1 = axis1.legend(loc=\"best\")\n",
        "\n",
        "axis2.plot(epoch_list, history.history['loss'], label='Train Loss')\n",
        "axis2.plot(epoch_list, history.history['val_loss'], label='Validation Loss')\n",
        "axis2.set_xticks(np.arange(1, max_epoch, 5))\n",
        "axis2.set_ylabel('Loss Value')\n",
        "axis2.set_xlabel('Epoch')\n",
        "axis2.set_title('Loss')\n",
        "l2 = axis2.legend(loc=\"best\")"
      ],
      "metadata": {
        "colab": {
          "base_uri": "https://localhost:8080/",
          "height": 308
        },
        "id": "hl3eIfWy2D_S",
        "outputId": "e4c584d0-20e5-4c6a-f00d-1c28c740d885"
      },
      "execution_count": 20,
      "outputs": [
        {
          "output_type": "display_data",
          "data": {
            "text/plain": [
              "<Figure size 864x288 with 2 Axes>"
            ],
            "image/png": "[encoded data removed]"
          },
          "metadata": {
            "needs_background": "light"
          }
        }
      ]
    }
  ]
}